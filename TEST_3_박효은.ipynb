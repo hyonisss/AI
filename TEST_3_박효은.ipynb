{
  "nbformat": 4,
  "nbformat_minor": 0,
  "metadata": {
    "accelerator": "TPU",
    "colab": {
      "name": "TEST_3_박효은.ipynb",
      "provenance": [],
      "collapsed_sections": []
    },
    "kernelspec": {
      "display_name": "Python 3",
      "language": "python",
      "name": "python3"
    },
    "language_info": {
      "codemirror_mode": {
        "name": "ipython",
        "version": 3
      },
      "file_extension": ".py",
      "mimetype": "text/x-python",
      "name": "python",
      "nbconvert_exporter": "python",
      "pygments_lexer": "ipython3",
      "version": "3.7.9"
    }
  },
  "cells": [
    {
      "cell_type": "markdown",
      "metadata": {
        "id": "YFgG5LWSDCGQ"
      },
      "source": [
        "# Linear Regression"
      ]
    },
    {
      "cell_type": "markdown",
      "metadata": {
        "id": "s5GcbJcLDEOJ"
      },
      "source": [
        ">### [예제 7] Multi Variable Linear Regression (TensorFlow)"
      ]
    },
    {
      "cell_type": "markdown",
      "metadata": {
        "id": "CmXWmww_DN1h"
      },
      "source": [
        ">### Load modules"
      ]
    },
    {
      "cell_type": "code",
      "metadata": {
        "colab": {
          "base_uri": "https://localhost:8080/"
        },
        "id": "NQ6ONRPKCy-h",
        "outputId": "b2ecadbf-69cd-40c2-8961-695d42556e45"
      },
      "source": [
        "import numpy as np\n",
        "import tensorflow as tf\n",
        "import matplotlib.pyplot as plt\n",
        "import pandas as pd\n",
        "\n",
        "print(\"NumPy Version :{}\".format(np.__version__))\n",
        "print(\"TensorFlow Version :{}\".format(tf.__version__))\n",
        "print(\"Matplotlib Version :{}\".format(plt.matplotlib.__version__))\n",
        "print(\"Pandas Version :{}\".format(pd.__version__))"
      ],
      "execution_count": 1,
      "outputs": [
        {
          "output_type": "stream",
          "text": [
            "NumPy Version :1.19.5\n",
            "TensorFlow Version :2.4.0\n",
            "Matplotlib Version :3.2.2\n",
            "Pandas Version :1.1.5\n"
          ],
          "name": "stdout"
        }
      ]
    },
    {
      "cell_type": "code",
      "metadata": {
        "colab": {
          "base_uri": "https://localhost:8080/"
        },
        "id": "Ly5hoeQmSd6a",
        "outputId": "c1edf9db-b6a9-4a2d-e1e1-378361236440"
      },
      "source": [
        "colab=True\n",
        "try:\n",
        "  from google.colab import drive\n",
        "except:\n",
        "  colab =False\n",
        "if colab : \n",
        "    drive.mount('/content/drive')\n",
        "    print('g-drive mounted.')\n",
        "else : print('local drive.')"
      ],
      "execution_count": 2,
      "outputs": [
        {
          "output_type": "stream",
          "text": [
            "Drive already mounted at /content/drive; to attempt to forcibly remount, call drive.mount(\"/content/drive\", force_remount=True).\n",
            "g-drive mounted.\n"
          ],
          "name": "stdout"
        }
      ]
    },
    {
      "cell_type": "code",
      "metadata": {
        "id": "aS--0nt7Sd-g"
      },
      "source": [
        "if colab : \n",
        "  file_path = '/content/drive/My Drive/files/blood.csv'\n",
        "else : \n",
        "  files_path = 'c:/files/blood.csv'"
      ],
      "execution_count": 3,
      "outputs": []
    },
    {
      "cell_type": "code",
      "metadata": {
        "id": "MHlud0o2TAF2"
      },
      "source": [
        "df = pd.read_csv(file_path)\n",
        "\n",
        "df['DIS'].replace([1,2,3,4],[1,0,1,0], inplace=True )\n",
        "\n",
        "df.sort_values(by=['DIS','BTH_G'], inplace=True)"
      ],
      "execution_count": 4,
      "outputs": []
    },
    {
      "cell_type": "code",
      "metadata": {
        "id": "BUcXVtPksrOf"
      },
      "source": [
        "input = np.array(df[['BTH_G', 'BMI', 'FBS']], dtype= np.float32)\n",
        "target = np.array(df['DIS'], dtype= np.float32).reshape(-1,1)"
      ],
      "execution_count": 5,
      "outputs": []
    },
    {
      "cell_type": "code",
      "metadata": {
        "colab": {
          "base_uri": "https://localhost:8080/"
        },
        "id": "I-IBpOTXTs-H",
        "outputId": "80541456-eae2-4815-dbb4-7bd18f451628"
      },
      "source": [
        "# DIS열의 0,1 개수 확인\n",
        "dis = df['DIS']\n",
        "print(dis.value_counts())\n",
        "dis.value_counts()[0]"
      ],
      "execution_count": 17,
      "outputs": [
        {
          "output_type": "stream",
          "text": [
            "0    903488\n",
            "1     96512\n",
            "Name: DIS, dtype: int64\n"
          ],
          "name": "stdout"
        },
        {
          "output_type": "execute_result",
          "data": {
            "text/plain": [
              "903488"
            ]
          },
          "metadata": {
            "tags": []
          },
          "execution_count": 17
        }
      ]
    },
    {
      "cell_type": "code",
      "metadata": {
        "id": "DU1W5UVJSMma"
      },
      "source": [
        "# BAL: 0, 1 label 개수가 균형 => True\n",
        "BAL = True\n",
        "if BAL == False:\n",
        "  x_input = input[::5000]\n",
        "  labels = target[::5000]\n",
        "else:\n",
        "  x_input = np.zeros((200,3),dtype=np.float32)\n",
        "  labels = np.zeros((200,1),dtype=np.float32)\n",
        "\n",
        "  x_input[:100] = input[:300000:3000]\n",
        "  x_input[100:200] = input[900000:1000000:1000] \n",
        "\n",
        "  labels[:100] = target[:300000:3000] \n",
        "  labels[100:200] = target[900000:1000000:1000] "
      ],
      "execution_count": 7,
      "outputs": []
    },
    {
      "cell_type": "code",
      "metadata": {
        "id": "AwNo6VRoTv-z"
      },
      "source": [
        ""
      ],
      "execution_count": 16,
      "outputs": []
    },
    {
      "cell_type": "markdown",
      "metadata": {
        "id": "-dg-R6_6Dfo_"
      },
      "source": [
        "> ### Input and Label"
      ]
    },
    {
      "cell_type": "code",
      "metadata": {
        "id": "MK9xIhEWDdiq"
      },
      "source": [
        "#Input(AGE) and Labels(BP)\n",
        "# x_input = tf.constant([[25,22],[25,26],[25,30],[35,22],[35,26],[35,30],[45,22],[45,26],[45,30],[55,22],[55,26],[55,30],[65,22],[65,26],[65,30],[73,22],[73,26],[73,30]], dtype= tf.float32)\n",
        "# labels = tf.constant([[118],[125],[130],[118],[126],[123],[120],[124],[130],[122],[125],[130],[127],[130],[130],[125.5],[130],[138]], dtype= tf.float32)\n",
        "\n",
        "W = tf.Variable(tf.random.normal((3, 1)), dtype=tf.float32)\n",
        "B = tf.Variable(tf.random.normal(()), dtype=tf.float32)"
      ],
      "execution_count": 9,
      "outputs": []
    },
    {
      "cell_type": "code",
      "metadata": {
        "colab": {
          "base_uri": "https://localhost:8080/"
        },
        "id": "ykLjLluSu7bI",
        "outputId": "e2602d06-c65c-4461-9d87-8886c17aa536"
      },
      "source": [
        "# Min Max Scaler\n",
        "x_input_org = x_input # 나중에 원본데이터 확인을 위해 백업\n",
        "x_min, x_max = np.min(x_input, axis=0), np.max(x_input, axis=0)\n",
        "print(x_min.shape)\n",
        "x_input = (x_input-x_min)/(x_max-x_min)\n",
        "# x_input.shape, x_input"
      ],
      "execution_count": 10,
      "outputs": [
        {
          "output_type": "stream",
          "text": [
            "(3,)\n"
          ],
          "name": "stdout"
        }
      ]
    },
    {
      "cell_type": "markdown",
      "metadata": {
        "id": "r3ltXxjyD7l2"
      },
      "source": [
        ">### Hypothesis : Linear Equation (Multi-Variable)\n",
        ">### $X = \\begin{bmatrix} x_{11} & x_{12} \\\\ x_{21} & x_{22} \\\\ x_{31} & x_{32} \\\\ \\end{bmatrix}$\n",
        ">### $W = \\begin{bmatrix} w_{1} \\\\ w_{2} \\\\\\end{bmatrix}$\n",
        ">### $H(x) = XW + b$"
      ]
    },
    {
      "cell_type": "code",
      "metadata": {
        "id": "GOajfgPgD2qE"
      },
      "source": [
        "# Hypothesis\n",
        "def Hypothesis(x):\n",
        "  return tf.sigmoid(tf.matmul(x ,W) + B)"
      ],
      "execution_count": 11,
      "outputs": []
    },
    {
      "cell_type": "markdown",
      "metadata": {
        "id": "2DL7vAuaEQRN"
      },
      "source": [
        ">### Cost Function : Mean Squared Error (MSE)\n",
        ">### $\\sum_{i=1}^{n}(h(x_{i})-y_{i})^{2}$"
      ]
    },
    {
      "cell_type": "code",
      "metadata": {
        "id": "NHObKoBzEHyR"
      },
      "source": [
        "def Cost():\n",
        "  return -tf.reduce_mean(labels * tf.math.log(Hypothesis(x_input)) + (1 - labels) * tf.math.log(1 - Hypothesis(x_input)))"
      ],
      "execution_count": 12,
      "outputs": []
    },
    {
      "cell_type": "markdown",
      "metadata": {
        "id": "s3_SErpOG1rk"
      },
      "source": [
        "### 학습 (Training)"
      ]
    },
    {
      "cell_type": "code",
      "metadata": {
        "colab": {
          "base_uri": "https://localhost:8080/"
        },
        "id": "68vMDyJoFcD2",
        "outputId": "0d8345a9-3390-492d-b58e-c2255b9cf017"
      },
      "source": [
        "%%time\n",
        "# Parameter Set\n",
        "epochs = 10000\n",
        "learning_rate = 0.1\n",
        "optimizer = tf.keras.optimizers.SGD(learning_rate=learning_rate)\n",
        "\n",
        "training_idx = np.arange(0, epochs+1, 1)\n",
        "cost_graph = np.zeros(epochs+1)\n",
        "check = np.array([0, epochs*0.01, epochs*0.05, epochs*0.10, epochs*0.4, epochs])\n",
        "\n",
        "W_trained = []\n",
        "b_trained = []\n",
        "check_idx = 0\n",
        "\n",
        "# 학습 (Training)\n",
        "for cnt in range(0, epochs+1):\n",
        "  cost_graph[cnt] = Cost()\n",
        "  if cnt % (epochs/20) == 0:\n",
        "    print(\"[{:>5}] cost = {:>10.4}, W = [[{:>7.4}] [{:>7.4}] [{:>7.4}]], B = [[{:>7.4}]]\".format(cnt, cost_graph[cnt], W[0][0], W[1][0],W[2][0], B.numpy()))  \n",
        "  if check[check_idx] == cnt:\n",
        "    W_trained.append(W.numpy())\n",
        "    b_trained.append(B.numpy())\n",
        "    check_idx += 1\n",
        "\n",
        "  optimizer.minimize(Cost,[W, B])"
      ],
      "execution_count": 13,
      "outputs": [
        {
          "output_type": "stream",
          "text": [
            "[    0] cost =     0.8356, W = [[ 0.1288] [-0.9864] [  1.462]], B = [[ -1.282]]\n",
            "[  500] cost =     0.3439, W = [[  3.424] [-0.1211] [  2.435]], B = [[ -1.941]]\n",
            "[ 1000] cost =     0.2777, W = [[  4.801] [ 0.2808] [  3.013]], B = [[ -2.866]]\n",
            "[ 1500] cost =     0.2475, W = [[  5.654] [  0.638] [  3.491]], B = [[ -3.507]]\n",
            "[ 2000] cost =     0.2301, W = [[  6.247] [ 0.9589] [  3.902]], B = [[   -4.0]]\n",
            "[ 2500] cost =     0.2186, W = [[  6.688] [   1.25] [  4.264]], B = [[ -4.402]]\n",
            "[ 3000] cost =     0.2105, W = [[   7.03] [  1.516] [  4.588]], B = [[ -4.743]]\n",
            "[ 3500] cost =     0.2043, W = [[  7.305] [  1.761] [  4.882]], B = [[ -5.038]]\n",
            "[ 4000] cost =     0.1994, W = [[  7.532] [  1.987] [   5.15]], B = [[ -5.299]]\n",
            "[ 4500] cost =     0.1955, W = [[  7.724] [  2.196] [  5.397]], B = [[ -5.532]]\n",
            "[ 5000] cost =     0.1923, W = [[  7.888] [   2.39] [  5.625]], B = [[ -5.743]]\n",
            "[ 5500] cost =     0.1896, W = [[  8.031] [  2.571] [  5.838]], B = [[ -5.935]]\n",
            "[ 6000] cost =     0.1873, W = [[  8.158] [  2.739] [  6.037]], B = [[ -6.111]]\n",
            "[ 6500] cost =     0.1853, W = [[  8.271] [  2.897] [  6.224]], B = [[ -6.274]]\n",
            "[ 7000] cost =     0.1836, W = [[  8.373] [  3.044] [  6.399]], B = [[ -6.425]]\n",
            "[ 7500] cost =     0.1821, W = [[  8.466] [  3.182] [  6.565]], B = [[ -6.566]]\n",
            "[ 8000] cost =     0.1807, W = [[  8.552] [  3.311] [  6.722]], B = [[ -6.698]]\n",
            "[ 8500] cost =     0.1796, W = [[  8.631] [  3.433] [  6.871]], B = [[ -6.821]]\n",
            "[ 9000] cost =     0.1785, W = [[  8.705] [  3.547] [  7.013]], B = [[ -6.937]]\n",
            "[ 9500] cost =     0.1776, W = [[  8.774] [  3.655] [  7.147]], B = [[ -7.047]]\n",
            "[10000] cost =     0.1768, W = [[  8.838] [  3.757] [  7.276]], B = [[  -7.15]]\n",
            "CPU times: user 35.4 s, sys: 31.8 ms, total: 35.5 s\n",
            "Wall time: 35.6 s\n"
          ],
          "name": "stdout"
        }
      ]
    },
    {
      "cell_type": "markdown",
      "metadata": {
        "id": "VmGa4Bq-ZKMq"
      },
      "source": [
        ">### Hypothesis Test "
      ]
    },
    {
      "cell_type": "code",
      "metadata": {
        "colab": {
          "base_uri": "https://localhost:8080/"
        },
        "id": "X_UwcVCzK4KD",
        "outputId": "97976adb-569a-43aa-c9db-c33b07ae6ca8"
      },
      "source": [
        "# Training 결과 Test 및 Prediction\n",
        "\n",
        "print(\"[Training Test]\")\n",
        "y = Hypothesis(x_input)\n",
        "y = y.numpy().reshape((-1,))\n",
        "Y = [np.float32(y_elem>0.5) for y_elem in y]\n",
        "for idx in range(x_input.shape[0]):\n",
        "    print(\"Input {} , Target : {} => Y :{:>2}(y:{:>5.2})\".format(x_input[idx], labels[idx], Y[idx], y[idx]))"
      ],
      "execution_count": 14,
      "outputs": [
        {
          "output_type": "stream",
          "text": [
            "[Training Test]\n",
            "Input [0.         0.021978   0.12547529] , Target : [0.] => Y :0.0(y:0.0021)\n",
            "Input [0.         0.30219778 0.15969582] , Target : [0.] => Y :0.0(y:0.0077)\n",
            "Input [0.         0.3076922  0.12547529] , Target : [0.] => Y :0.0(y:0.0062)\n",
            "Input [0.         0.88461524 0.10266159] , Target : [0.] => Y :0.0(y:0.044)\n",
            "Input [0.         0.24725273 0.1444867 ] , Target : [0.] => Y :0.0(y:0.0057)\n",
            "Input [0.         0.27472526 0.15589353] , Target : [0.] => Y :0.0(y:0.0068)\n",
            "Input [0.         0.23076916 0.07984791] , Target : [0.] => Y :0.0(y:0.0033)\n",
            "Input [0.         0.13736263 0.07984791] , Target : [0.] => Y :0.0(y:0.0023)\n",
            "Input [0.         0.13186811 0.05323194] , Target : [0.] => Y :0.0(y:0.0019)\n",
            "Input [0.03846154 0.48351642 0.7946768 ] , Target : [0.] => Y :1.0(y: 0.69)\n",
            "Input [0.03846154 0.29120874 0.06463879] , Target : [0.] => Y :0.0(y:0.0052)\n",
            "Input [0.03846154 0.40659338 0.11026616] , Target : [0.] => Y :0.0(y:0.011)\n",
            "Input [0.03846154 0.4120879  0.09505703] , Target : [0.] => Y :0.0(y: 0.01)\n",
            "Input [0.03846154 0.065934   0.12547529] , Target : [0.] => Y :0.0(y:0.0035)\n",
            "Input [0.03846154 0.33516473 0.08365019] , Target : [0.] => Y :0.0(y:0.0071)\n",
            "Input [0.03846154 0.12087905 0.04942966] , Target : [0.] => Y :0.0(y:0.0025)\n",
            "Input [0.03846154 0.12637357 0.09885932] , Target : [0.] => Y :0.0(y:0.0036)\n",
            "Input [0.07692308 0.31868127 0.18631178] , Target : [0.] => Y :0.0(y:0.019)\n",
            "Input [0.07692308 0.45054936 0.06463879] , Target : [0.] => Y :0.0(y:0.013)\n",
            "Input [0.07692308 0.25824168 0.13307984] , Target : [0.] => Y :0.0(y:0.011)\n",
            "Input [0.07692308 0.3076922  0.12547529] , Target : [0.] => Y :0.0(y:0.012)\n",
            "Input [0.07692308 0.29670325 0.11026616] , Target : [0.] => Y :0.0(y: 0.01)\n",
            "Input [0.07692308 0.3076922  0.03802281] , Target : [0.] => Y :0.0(y:0.0064)\n",
            "Input [0.07692308 0.14835158 0.0608365 ] , Target : [0.] => Y :0.0(y:0.0042)\n",
            "Input [0.07692308 0.17032959 0.1444867 ] , Target : [0.] => Y :0.0(y:0.0083)\n",
            "Input [0.07692308 0.11538453 0.07604562] , Target : [0.] => Y :0.0(y:0.0041)\n",
            "Input [0.11538462 0.521978   0.05703422] , Target : [0.] => Y :0.0(y:0.023)\n",
            "Input [0.11538462 0.4175823  0.12547529] , Target : [0.] => Y :0.0(y:0.025)\n",
            "Input [0.11538462 0.2857142  0.15589353] , Target : [0.] => Y :0.0(y:0.019)\n",
            "Input [0.11538462 0.4395604  0.18631178] , Target : [0.] => Y :0.0(y:0.042)\n",
            "Input [0.11538462 0.44505483 0.15589353] , Target : [0.] => Y :0.0(y:0.035)\n",
            "Input [0.11538462 0.30219778 0.11787073] , Target : [0.] => Y :0.0(y:0.016)\n",
            "Input [0.11538462 0.         0.15969582] , Target : [0.] => Y :0.0(y:0.0069)\n",
            "Input [0.11538462 0.13736263 0.10266159] , Target : [0.] => Y :0.0(y:0.0076)\n",
            "Input [0.11538462 0.25274715 0.0608365 ] , Target : [0.] => Y :0.0(y:0.0087)\n",
            "Input [0.11538462 0.6263736  0.14068441] , Target : [0.] => Y :0.0(y: 0.06)\n",
            "Input [0.15384616 0.53846145 0.121673  ] , Target : [0.] => Y :0.0(y:0.053)\n",
            "Input [0.15384616 0.37912086 0.09885932] , Target : [0.] => Y :0.0(y:0.025)\n",
            "Input [0.15384616 0.48901096 0.04942966] , Target : [0.] => Y :0.0(y:0.027)\n",
            "Input [0.15384616 1.         0.19011407] , Target : [0.] => Y :0.0(y: 0.34)\n",
            "Input [0.15384616 0.45054936 0.06844106] , Target : [0.] => Y :0.0(y:0.027)\n",
            "Input [0.15384616 0.49450547 0.11026616] , Target : [0.] => Y :0.0(y:0.042)\n",
            "Input [0.15384616 0.6538461  0.0608365 ] , Target : [0.] => Y :0.0(y:0.053)\n",
            "Input [0.15384616 0.19780211 0.0608365 ] , Target : [0.] => Y :0.0(y:0.0099)\n",
            "Input [0.15384616 0.28021967 0.07984791] , Target : [0.] => Y :0.0(y:0.015)\n",
            "Input [0.15384616 0.5054944  0.11026616] , Target : [0.] => Y :0.0(y:0.044)\n",
            "Input [0.15384616 0.09340653 0.11406844] , Target : [0.] => Y :0.0(y:0.0099)\n",
            "Input [0.1923077  0.40659338 0.11026616] , Target : [0.] => Y :0.0(y:0.042)\n",
            "Input [0.1923077  0.35164833 0.09505703] , Target : [0.] => Y :0.0(y:0.031)\n",
            "Input [0.1923077  0.09890106 0.15969582] , Target : [0.] => Y :0.0(y: 0.02)\n",
            "Input [0.1923077  0.51098895 0.23574145] , Target : [0.] => Y :0.0(y: 0.14)\n",
            "Input [0.1923077  0.5769231  0.07604562] , Target : [0.] => Y :0.0(y:0.061)\n",
            "Input [0.1923077  0.44505483 0.14828898] , Target : [0.] => Y :0.0(y:0.063)\n",
            "Input [0.1923077  0.47252735 0.08745247] , Target : [0.] => Y :0.0(y:0.046)\n",
            "Input [0.1923077  0.8021977  0.15969582] , Target : [0.] => Y :0.0(y: 0.22)\n",
            "Input [0.1923077  0.3461538  0.07224335] , Target : [0.] => Y :0.0(y:0.026)\n",
            "Input [0.1923077  0.24175821 0.09885932] , Target : [0.] => Y :0.0(y:0.021)\n",
            "Input [0.1923077  0.021978   0.08365019] , Target : [0.] => Y :0.0(y:0.0085)\n",
            "Input [0.1923077  0.12637357 0.04562738] , Target : [0.] => Y :0.0(y:0.0095)\n",
            "Input [0.23076923 0.56043947 0.05703422] , Target : [0.] => Y :0.0(y: 0.07)\n",
            "Input [0.23076923 0.29670325 0.13688213] , Target : [0.] => Y :0.0(y:0.047)\n",
            "Input [0.23076923 0.46703294 0.11026616] , Target : [0.] => Y :0.0(y:0.072)\n",
            "Input [0.23076923 0.543956   0.12927757] , Target : [0.] => Y :0.0(y: 0.11)\n",
            "Input [0.23076923 0.40659338 0.0608365 ] , Target : [0.] => Y :0.0(y:0.041)\n",
            "Input [0.23076923 0.44505483 0.06844106] , Target : [0.] => Y :0.0(y: 0.05)\n",
            "Input [0.23076923 0.18681316 0.08365019] , Target : [0.] => Y :0.0(y:0.022)\n",
            "Input [0.23076923 0.46153843 0.18250951] , Target : [0.] => Y :0.0(y: 0.11)\n",
            "Input [0.23076923 0.24725273 0.12927757] , Target : [0.] => Y :0.0(y:0.038)\n",
            "Input [0.26923078 0.53846145 0.20532319] , Target : [0.] => Y :0.0(y: 0.22)\n",
            "Input [0.26923078 0.22527464 0.0608365 ] , Target : [0.] => Y :0.0(y: 0.03)\n",
            "Input [0.26923078 0.29120874 0.13307984] , Target : [0.] => Y :0.0(y:0.062)\n",
            "Input [0.26923078 0.52747244 0.11787073] , Target : [0.] => Y :0.0(y: 0.13)\n",
            "Input [0.26923078 0.14285706 0.13688213] , Target : [0.] => Y :0.0(y:0.038)\n",
            "Input [0.26923078 0.37912086 0.121673  ] , Target : [0.] => Y :0.0(y:0.079)\n",
            "Input [0.26923078 0.33516473 0.10646388] , Target : [0.] => Y :0.0(y:0.061)\n",
            "Input [0.26923078 0.22527464 0.09505703] , Target : [0.] => Y :0.0(y:0.038)\n",
            "Input [0.26923078 0.31868127 0.121673  ] , Target : [0.] => Y :0.0(y:0.064)\n",
            "Input [0.26923078 0.09340653 0.10646388] , Target : [0.] => Y :0.0(y:0.025)\n",
            "Input [0.30769232 0.532967   0.17870723] , Target : [0.] => Y :0.0(y: 0.24)\n",
            "Input [0.30769232 0.59890103 0.13688213] , Target : [0.] => Y :0.0(y: 0.23)\n",
            "Input [0.30769232 0.4340659  0.1634981 ] , Target : [0.] => Y :0.0(y: 0.17)\n",
            "Input [0.30769232 0.31868127 0.10266159] , Target : [0.] => Y :0.0(y:0.077)\n",
            "Input [0.30769232 0.3956043  0.11026616] , Target : [0.] => Y :0.0(y: 0.11)\n",
            "Input [0.30769232 0.22527464 0.27756655] , Target : [0.] => Y :0.0(y: 0.17)\n",
            "Input [0.30769232 0.532967   0.11787073] , Target : [0.] => Y :0.0(y: 0.17)\n",
            "Input [0.30769232 0.5164835  0.17110266] , Target : [0.] => Y :0.0(y: 0.22)\n",
            "Input [0.30769232 0.74725264 0.15589353] , Target : [0.] => Y :0.0(y: 0.38)\n",
            "Input [0.30769232 0.23626368 0.1444867 ] , Target : [0.] => Y :0.0(y:0.076)\n",
            "Input [0.30769232 0.3076922  0.07604562] , Target : [0.] => Y :0.0(y:0.062)\n",
            "Input [0.30769232 0.14285706 0.08365019] , Target : [0.] => Y :0.0(y:0.036)\n",
            "Input [0.30769232 0.13736263 0.07984791] , Target : [0.] => Y :0.0(y:0.034)\n",
            "Input [0.30769232 0.32417578 0.11406844] , Target : [0.] => Y :0.0(y:0.084)\n",
            "Input [0.30769232 0.3681318  0.08745247] , Target : [0.] => Y :0.0(y:0.082)\n",
            "Input [0.30769232 0.63736254 0.12927757] , Target : [0.] => Y :0.0(y: 0.25)\n",
            "Input [0.30769232 0.30219778 0.13307984] , Target : [0.] => Y :0.0(y:0.089)\n",
            "Input [0.30769232 0.29670325 0.15209125] , Target : [0.] => Y :0.0(y:0.099)\n",
            "Input [0.34615386 0.4175823  0.11406844] , Target : [0.] => Y :0.0(y: 0.16)\n",
            "Input [0.34615386 0.44505483 0.20912547] , Target : [0.] => Y :0.0(y: 0.29)\n",
            "Input [0.34615386 0.26373622 0.10646388] , Target : [0.] => Y :0.0(y:0.089)\n",
            "Input [0.34615386 0.521978   0.1444867 ] , Target : [0.] => Y :0.0(y: 0.25)\n",
            "Input [1.         0.28021967 0.13307984] , Target : [0.] => Y :1.0(y: 0.98)\n",
            "Input [1.         0.22527464 0.10646388] , Target : [0.] => Y :1.0(y: 0.96)\n",
            "Input [1.         0.35164833 0.06844106] , Target : [0.] => Y :1.0(y: 0.97)\n",
            "Input [1.         0.14835158 0.07224335] , Target : [0.] => Y :1.0(y: 0.94)\n",
            "Input [0.15384616 0.48351642 1.        ] , Target : [1.] => Y :1.0(y: 0.96)\n",
            "Input [0.23076923 0.53846145 0.15209125] , Target : [1.] => Y :0.0(y: 0.12)\n",
            "Input [0.30769232 0.48351642 0.8707224 ] , Target : [1.] => Y :1.0(y: 0.98)\n",
            "Input [0.34615386 0.6868132  0.31939164] , Target : [1.] => Y :1.0(y: 0.69)\n",
            "Input [0.34615386 0.6428571  0.25475284] , Target : [1.] => Y :1.0(y: 0.54)\n",
            "Input [0.3846154  0.51098895 0.23574145] , Target : [1.] => Y :0.0(y: 0.47)\n",
            "Input [0.3846154  0.62087905 0.18250951] , Target : [1.] => Y :0.0(y: 0.48)\n",
            "Input [0.42307693 0.9120878  0.22053231] , Target : [1.] => Y :1.0(y: 0.83)\n",
            "Input [0.42307693 0.6318681  0.4714829 ] , Target : [1.] => Y :1.0(y: 0.92)\n",
            "Input [0.46153846 0.30219778 0.23193917] , Target : [1.] => Y :0.0(y: 0.44)\n",
            "Input [0.46153846 0.44505483 0.23574145] , Target : [1.] => Y :1.0(y: 0.58)\n",
            "Input [0.46153846 0.59890103 0.15589353] , Target : [1.] => Y :1.0(y: 0.58)\n",
            "Input [0.5        0.49999988 0.39923954] , Target : [1.] => Y :1.0(y: 0.89)\n",
            "Input [0.5        0.37362632 0.5247148 ] , Target : [1.] => Y :1.0(y: 0.92)\n",
            "Input [0.5        0.39010978 0.6806084 ] , Target : [1.] => Y :1.0(y: 0.98)\n",
            "Input [0.5        0.6978021  0.33460075] , Target : [1.] => Y :1.0(y: 0.91)\n",
            "Input [0.53846157 0.6318681  0.23954372] , Target : [1.] => Y :1.0(y: 0.85)\n",
            "Input [0.53846157 0.42307684 0.23193917] , Target : [1.] => Y :1.0(y: 0.71)\n",
            "Input [0.53846157 0.51098895 0.17870723] , Target : [1.] => Y :1.0(y:  0.7)\n",
            "Input [0.53846157 0.40659338 0.25855514] , Target : [1.] => Y :1.0(y: 0.73)\n",
            "Input [0.5769231  0.4560439  0.20532319] , Target : [1.] => Y :1.0(y: 0.76)\n",
            "Input [0.5769231  0.68131864 0.09885932] , Target : [1.] => Y :1.0(y: 0.77)\n",
            "Input [0.5769231  0.68131864 0.31178707] , Target : [1.] => Y :1.0(y: 0.94)\n",
            "Input [0.5769231  0.36263725 0.36501902] , Target : [1.] => Y :1.0(y: 0.88)\n",
            "Input [0.5769231  0.29120874 0.46007603] , Target : [1.] => Y :1.0(y: 0.92)\n",
            "Input [0.5769231  0.47252735 0.14828898] , Target : [1.] => Y :1.0(y: 0.69)\n",
            "Input [0.61538464 0.19780211 0.23574145] , Target : [1.] => Y :1.0(y: 0.68)\n",
            "Input [0.61538464 0.3681318  0.62357414] , Target : [1.] => Y :1.0(y: 0.99)\n",
            "Input [0.61538464 0.6593406  0.47528517] , Target : [1.] => Y :1.0(y: 0.99)\n",
            "Input [0.61538464 0.56043947 0.36501902] , Target : [1.] => Y :1.0(y: 0.95)\n",
            "Input [0.61538464 0.7582417  0.9163498 ] , Target : [1.] => Y :1.0(y:  1.0)\n",
            "Input [0.61538464 0.6868132  0.13307984] , Target : [1.] => Y :1.0(y: 0.86)\n",
            "Input [0.65384614 0.32417578 0.25855514] , Target : [1.] => Y :1.0(y: 0.85)\n",
            "Input [0.65384614 0.7637362  0.34600762] , Target : [1.] => Y :1.0(y: 0.98)\n",
            "Input [0.65384614 0.6318681  0.26615968] , Target : [1.] => Y :1.0(y: 0.95)\n",
            "Input [0.65384614 0.35164833 0.34220532] , Target : [1.] => Y :1.0(y: 0.92)\n",
            "Input [0.65384614 0.46703294 0.39543727] , Target : [1.] => Y :1.0(y: 0.96)\n",
            "Input [0.65384614 0.5164835  0.30038023] , Target : [1.] => Y :1.0(y: 0.94)\n",
            "Input [0.6923077  0.33516473 0.2243346 ] , Target : [1.] => Y :1.0(y: 0.87)\n",
            "Input [0.6923077  0.4780219  0.15209125] , Target : [1.] => Y :1.0(y: 0.87)\n",
            "Input [0.6923077  0.3076922  0.27376425] , Target : [1.] => Y :1.0(y: 0.89)\n",
            "Input [0.6923077  0.24175821 0.22053231] , Target : [1.] => Y :1.0(y: 0.81)\n",
            "Input [0.6923077  0.28021967 0.18250951] , Target : [1.] => Y :1.0(y: 0.79)\n",
            "Input [0.6923077  0.26923072 0.41825095] , Target : [1.] => Y :1.0(y: 0.95)\n",
            "Input [0.7307692  0.1758241  0.33840305] , Target : [1.] => Y :1.0(y: 0.92)\n",
            "Input [0.7307692  0.3956043  0.21673004] , Target : [1.] => Y :1.0(y: 0.91)\n",
            "Input [0.7307692  0.49450547 0.18631178] , Target : [1.] => Y :1.0(y: 0.93)\n",
            "Input [0.7307692  0.35714284 0.24714829] , Target : [1.] => Y :1.0(y: 0.92)\n",
            "Input [0.7307692  0.24725273 0.5703422 ] , Target : [1.] => Y :1.0(y: 0.99)\n",
            "Input [0.7307692  0.47252735 0.23193917] , Target : [1.] => Y :1.0(y: 0.94)\n",
            "Input [0.7307692  0.24725273 0.15969582] , Target : [1.] => Y :1.0(y:  0.8)\n",
            "Input [0.7692308  0.30219778 0.17870723] , Target : [1.] => Y :1.0(y: 0.89)\n",
            "Input [0.7692308  0.70329666 0.17870723] , Target : [1.] => Y :1.0(y: 0.97)\n",
            "Input [0.7692308  0.7417582  0.33840305] , Target : [1.] => Y :1.0(y: 0.99)\n",
            "Input [0.7692308 0.7582417 0.       ] , Target : [1.] => Y :1.0(y: 0.92)\n",
            "Input [0.7692308  0.15934063 0.12547529] , Target : [1.] => Y :1.0(y: 0.76)\n",
            "Input [0.7692308  0.64835155 0.243346  ] , Target : [1.] => Y :1.0(y: 0.98)\n",
            "Input [0.8076923 0.4120879 0.4714829] , Target : [1.] => Y :1.0(y: 0.99)\n",
            "Input [0.8076923  0.31868127 0.13688213] , Target : [1.] => Y :1.0(y:  0.9)\n",
            "Input [0.8076923 0.6153845 0.1634981] , Target : [1.] => Y :1.0(y: 0.97)\n",
            "Input [0.8076923  0.4340659  0.09505703] , Target : [1.] => Y :1.0(y: 0.91)\n",
            "Input [0.8076923  0.26373622 0.2851711 ] , Target : [1.] => Y :1.0(y: 0.95)\n",
            "Input [0.8076923  0.51098895 0.30038023] , Target : [1.] => Y :1.0(y: 0.98)\n",
            "Input [0.84615386 0.55494493 0.20532319] , Target : [1.] => Y :1.0(y: 0.98)\n",
            "Input [0.84615386 0.40109885 0.31178707] , Target : [1.] => Y :1.0(y: 0.98)\n",
            "Input [0.84615386 0.23076916 0.11026616] , Target : [1.] => Y :1.0(y: 0.88)\n",
            "Input [0.84615386 0.40659338 0.06844106] , Target : [1.] => Y :1.0(y: 0.91)\n",
            "Input [0.84615386 0.35714284 0.17110266] , Target : [1.] => Y :1.0(y: 0.95)\n",
            "Input [0.84615386 0.19230768 0.53231937] , Target : [1.] => Y :1.0(y: 0.99)\n",
            "Input [0.88461536 0.55494493 0.14828898] , Target : [1.] => Y :1.0(y: 0.98)\n",
            "Input [0.88461536 0.47252735 0.19011407] , Target : [1.] => Y :1.0(y: 0.98)\n",
            "Input [0.88461536 0.543956   0.2243346 ] , Target : [1.] => Y :1.0(y: 0.99)\n",
            "Input [0.88461536 0.4560439  0.11787073] , Target : [1.] => Y :1.0(y: 0.96)\n",
            "Input [0.88461536 0.5824175  0.1444867 ] , Target : [1.] => Y :1.0(y: 0.98)\n",
            "Input [0.9230769  0.48351642 0.25475284] , Target : [1.] => Y :1.0(y: 0.99)\n",
            "Input [0.9230769  0.18131863 0.33840305] , Target : [1.] => Y :1.0(y: 0.98)\n",
            "Input [0.9230769  0.45054936 0.23193917] , Target : [1.] => Y :1.0(y: 0.99)\n",
            "Input [0.9230769  0.51098895 0.21292776] , Target : [1.] => Y :1.0(y: 0.99)\n",
            "Input [0.9230769  0.6538461  0.31939164] , Target : [1.] => Y :1.0(y:  1.0)\n",
            "Input [0.9230769  0.60439557 0.2623574 ] , Target : [1.] => Y :1.0(y: 0.99)\n",
            "Input [0.96153843 0.4560439  0.3231939 ] , Target : [1.] => Y :1.0(y:  1.0)\n",
            "Input [0.96153843 0.1758241  0.20912547] , Target : [1.] => Y :1.0(y: 0.97)\n",
            "Input [0.96153843 0.2197802  0.39163497] , Target : [1.] => Y :1.0(y: 0.99)\n",
            "Input [0.96153843 0.35714284 0.14828898] , Target : [1.] => Y :1.0(y: 0.98)\n",
            "Input [0.96153843 0.6703296  0.19771864] , Target : [1.] => Y :1.0(y:  1.0)\n",
            "Input [1.         0.35164833 0.09885932] , Target : [1.] => Y :1.0(y: 0.98)\n",
            "Input [1.         0.45054936 0.24714829] , Target : [1.] => Y :1.0(y: 0.99)\n",
            "Input [1.         0.33516473 0.243346  ] , Target : [1.] => Y :1.0(y: 0.99)\n",
            "Input [1.         0.53846145 0.14068441] , Target : [1.] => Y :1.0(y: 0.99)\n",
            "Input [1.         0.8461538  0.15969582] , Target : [1.] => Y :1.0(y:  1.0)\n",
            "Input [1.         0.03846147 0.08745247] , Target : [1.] => Y :1.0(y: 0.92)\n",
            "Input [1.         0.18681316 0.07604562] , Target : [1.] => Y :1.0(y: 0.95)\n",
            "Input [1.         0.33516473 0.35741445] , Target : [1.] => Y :1.0(y:  1.0)\n",
            "Input [1.         0.35714284 0.22813688] , Target : [1.] => Y :1.0(y: 0.99)\n",
            "Input [1.         0.532967   0.10646388] , Target : [1.] => Y :1.0(y: 0.99)\n",
            "Input [1.         0.60439557 0.17870723] , Target : [1.] => Y :1.0(y: 0.99)\n"
          ],
          "name": "stdout"
        }
      ]
    },
    {
      "cell_type": "code",
      "metadata": {
        "id": "re4eVqlRu7bI"
      },
      "source": [
        "# predict\n",
        "def predict(x):\n",
        "  return Hypothesis((x-x_min)/(x_max-x_min))"
      ],
      "execution_count": 15,
      "outputs": []
    }
  ]
}