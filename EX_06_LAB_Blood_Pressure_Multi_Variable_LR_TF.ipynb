{
 "cells": [
  {
   "cell_type": "markdown",
   "metadata": {
    "colab_type": "text",
    "id": "YFgG5LWSDCGQ"
   },
   "source": [
    "# Linear Regression"
   ]
  },
  {
   "cell_type": "markdown",
   "metadata": {
    "colab_type": "text",
    "id": "s5GcbJcLDEOJ"
   },
   "source": [
    ">### [예제 6: LAB] Multi Variable Linear Regression (TF)"
   ]
  },
  {
   "cell_type": "markdown",
   "metadata": {
    "colab_type": "text",
    "id": "CmXWmww_DN1h"
   },
   "source": [
    ">### Load modules"
   ]
  },
  {
   "cell_type": "code",
   "execution_count": null,
   "metadata": {
    "colab": {},
    "colab_type": "code",
    "id": "NQ6ONRPKCy-h"
   },
   "outputs": [],
   "source": [
    "import numpy as np\n",
    "import tensorflow as tf\n",
    "import matplotlib.pyplot as plt\n",
    "\n",
    "print(\"NumPy Version :{}\".format(np.__version__))\n",
    "print(\"TensorFlow Version :{}\".format(tf.__version__))\n",
    "print(\"Matplotlib Version :{}\".format(plt.matplotlib.__version__))"
   ]
  },
  {
   "cell_type": "markdown",
   "metadata": {
    "colab_type": "text",
    "id": "-dg-R6_6Dfo_"
   },
   "source": [
    "> ### Input and Label"
   ]
  },
  {
   "cell_type": "code",
   "execution_count": null,
   "metadata": {
    "colab": {},
    "colab_type": "code",
    "id": "MK9xIhEWDdiq"
   },
   "outputs": [],
   "source": [
    "#Input(AGE) and Labels(BP)\n",
    "x_input = tf.constant([[25,22],[25,26],[25,30],[35,22],[35,26],[35,30],[45,22],[45,26],[45,30],[55,22],[55,26],[55,30],[65,22],[65,26],[65,30],[73,22],[73,26],[73,30]], dtype= tf.float32)\n",
    "labels = tf.constant([[118],[125],[130],[118],[126],[123],[120],[124],[130],[122],[125],[130],[127],[130],[130],[125.5],[130],[138]], dtype= tf.float32)\n",
    "\n",
    "# W, B 선언필요(적절한 shape, type)\n",
    "W = tf.Variable(tf.random.normal((    )), dtype=          )\n",
    "B = tf.Variable(tf.random.normal((   )), dtype=         )"
   ]
  },
  {
   "cell_type": "markdown",
   "metadata": {
    "colab_type": "text",
    "id": "r3ltXxjyD7l2"
   },
   "source": [
    ">### Hypothesis : Linear Equation (Multi-Variable)\n",
    ">### $X = \\begin{bmatrix} x_{11} & x_{12} \\\\ x_{21} & x_{22} \\\\ x_{31} & x_{32} \\\\ \\end{bmatrix}$\n",
    ">### $W = \\begin{bmatrix} w_{1} \\\\ w_{2} \\\\\\end{bmatrix}$\n",
    ">### $H(x) = XW + b$"
   ]
  },
  {
   "cell_type": "code",
   "execution_count": null,
   "metadata": {
    "colab": {},
    "colab_type": "code",
    "id": "GOajfgPgD2qE"
   },
   "outputs": [],
   "source": [
    "# Hypothesis 구현 필요\n",
    "def Hypothesis(x):\n",
    "  "
   ]
  },
  {
   "cell_type": "markdown",
   "metadata": {
    "colab_type": "text",
    "id": "2DL7vAuaEQRN"
   },
   "source": [
    ">### Cost Function : Mean Squared Error (MSE)\n",
    ">### $\\sum_{i=1}^{n}(h(x_{i})-y_{i})^{2}$"
   ]
  },
  {
   "cell_type": "code",
   "execution_count": null,
   "metadata": {
    "colab": {},
    "colab_type": "code",
    "id": "NHObKoBzEHyR"
   },
   "outputs": [],
   "source": [
    "# Cost Function 구현 필요\n",
    "def Cost():\n",
    "  "
   ]
  },
  {
   "cell_type": "markdown",
   "metadata": {
    "colab_type": "text",
    "id": "s3_SErpOG1rk"
   },
   "source": [
    "### 학습 (Training)"
   ]
  },
  {
   "cell_type": "code",
   "execution_count": null,
   "metadata": {
    "colab": {},
    "colab_type": "code",
    "id": "68vMDyJoFcD2"
   },
   "outputs": [],
   "source": [
    "%%time\n",
    "# Parameter Set\n",
    "epochs = 500000\n",
    "learning_rate = 0.0002\n",
    "\n",
    "# 최적화를 위한 optimizer 생성 필요\n",
    "\n",
    "\n",
    "training_idx = np.arange(0, epochs+1, 1)\n",
    "cost_graph = np.zeros(epochs+1)\n",
    "\n",
    "for cnt in range(0, epochs+1):\n",
    "  cost_graph[cnt] = Cost()\n",
    "  if cnt % (epochs/20) == 0:\n",
    "    print(\"[{:>6}] cost = {:>10.4}, W = [ {:>7.4} {:>7.4} ], B = {:>7.4}\".format(cnt, cost_graph[cnt], W[0][0], W[1][0], B.numpy()))\n",
    "\n",
    "  # W, B 학습을 위한 minimize() 동작 구현 필요\n",
    "  "
   ]
  },
  {
   "cell_type": "markdown",
   "metadata": {
    "colab_type": "text",
    "id": "VmGa4Bq-ZKMq"
   },
   "source": [
    ">### Hypothesis Test "
   ]
  },
  {
   "cell_type": "code",
   "execution_count": null,
   "metadata": {
    "colab": {},
    "colab_type": "code",
    "id": "X_UwcVCzK4KD"
   },
   "outputs": [],
   "source": [
    "print(\"[ Hypothesis test ]\")\n",
    "\n",
    "H_x = Hypothesis(x_input)\n",
    "for x,h,l in zip(x_input, H_x, labels):\n",
    "  print(\"Age : {}, BMI : {:>7.4} => BP : {:>7.4} [label => {}]\".format(x[0],x[1],h[0],l))"
   ]
  },
  {
   "cell_type": "code",
   "execution_count": null,
   "metadata": {},
   "outputs": [],
   "source": [
    "# predict\n",
    "x_test = tf.constant([[50.0, 25.0]], dtype= tf.float32)\n",
    "H_x = Hypothesis(x_test)\n",
    "print(\"\\n[ Prediction by specific data ]\")\n",
    "print(\"Age : {}, BMI : {} = > BP : {:>7.4}\".format(x_test[0][0],x_test[0][1],H_x[0][0]))"
   ]
  },
  {
   "cell_type": "markdown",
   "metadata": {
    "colab_type": "text",
    "id": "eLvOaTCyHGhb"
   },
   "source": [
    ">### Plotting"
   ]
  },
  {
   "cell_type": "code",
   "execution_count": null,
   "metadata": {
    "colab": {},
    "colab_type": "code",
    "id": "4ZEI94f8HHDu"
   },
   "outputs": [],
   "source": [
    "# Training 상황에 대한 그래프 출력\n",
    "# Training 회수 별 Cost 값\n",
    "plt.title(\"'Cost / Epochs' Graph\")\n",
    "plt.xlabel(\"Epochs\")\n",
    "plt.ylabel(\"Cost\")\n",
    "plt.plot(training_idx, cost_graph)\n",
    "plt.xlim(0, epochs)\n",
    "plt.grid(True)\n",
    "plt.semilogy()\n",
    "plt.show"
   ]
  }
 ],
 "metadata": {
  "accelerator": "TPU",
  "colab": {
   "collapsed_sections": [],
   "name": "EX_07_Blood_Pressure_Multi_Variable_LR_TF.ipynb",
   "provenance": []
  },
  "kernelspec": {
   "display_name": "Python 3",
   "language": "python",
   "name": "python3"
  },
  "language_info": {
   "codemirror_mode": {
    "name": "ipython",
    "version": 3
   },
   "file_extension": ".py",
   "mimetype": "text/x-python",
   "name": "python",
   "nbconvert_exporter": "python",
   "pygments_lexer": "ipython3",
   "version": "3.7.9"
  }
 },
 "nbformat": 4,
 "nbformat_minor": 1
}
