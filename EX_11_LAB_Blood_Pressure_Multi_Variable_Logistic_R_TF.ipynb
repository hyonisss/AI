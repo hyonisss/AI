{
 "cells": [
  {
   "cell_type": "markdown",
   "metadata": {
    "colab_type": "text",
    "id": "YFgG5LWSDCGQ"
   },
   "source": [
    "# Logistic Regression"
   ]
  },
  {
   "cell_type": "markdown",
   "metadata": {
    "colab_type": "text",
    "id": "s5GcbJcLDEOJ"
   },
   "source": [
    ">### [예제 11: LAB] Blood Pressure Logistic Regression (TF)"
   ]
  },
  {
   "cell_type": "markdown",
   "metadata": {
    "colab_type": "text",
    "id": "CmXWmww_DN1h"
   },
   "source": [
    ">### Load modules"
   ]
  },
  {
   "cell_type": "code",
   "execution_count": 1,
   "metadata": {
    "colab": {},
    "colab_type": "code",
    "id": "NQ6ONRPKCy-h"
   },
   "outputs": [
    {
     "name": "stdout",
     "output_type": "stream",
     "text": [
      "NumPy Version :1.18.5\n",
      "TensorFlow Version :2.3.1\n",
      "Matplotlib Version :3.3.2\n"
     ]
    }
   ],
   "source": [
    "import numpy as np\n",
    "import tensorflow as tf\n",
    "import matplotlib.pyplot as plt\n",
    "\n",
    "print(\"NumPy Version :{}\".format(np.__version__))\n",
    "print(\"TensorFlow Version :{}\".format(tf.__version__))\n",
    "print(\"Matplotlib Version :{}\".format(plt.matplotlib.__version__))"
   ]
  },
  {
   "cell_type": "markdown",
   "metadata": {
    "colab_type": "text",
    "id": "-dg-R6_6Dfo_"
   },
   "source": [
    "> ### Input and Label"
   ]
  },
  {
   "cell_type": "code",
   "execution_count": 2,
   "metadata": {
    "colab": {},
    "colab_type": "code",
    "id": "MK9xIhEWDdiq"
   },
   "outputs": [],
   "source": [
    "#Input(AGE) and Labels(BP)\n",
    "x_input = tf.constant([[25,22],[25,26],[25,30],[35,22],[35,26],[35,30],[45,22],[45,26],[45,30],[55,22],[55,26],[55,30],[65,22],[65,26],[65,30],[73,22],[73,26],[73,30]], dtype= tf.float32)\n",
    "labels = tf.constant([[0],[0],[1],[0],[1],[0],[0],[0],[1],[0],[0],[1],[1],[1],[1],[0],[1],[1]], dtype= tf.float32)\n",
    "\n",
    "W = tf.Variable(tf.random.normal((2, 1)), dtype=tf.float32)\n",
    "B = tf.Variable(tf.random.normal(()), dtype=tf.float32)"
   ]
  },
  {
   "cell_type": "code",
   "execution_count": 3,
   "metadata": {},
   "outputs": [],
   "source": [
    "# Min Max Scaler\n",
    "x_input_org = x_input\n",
    "x_min, x_max = np.min(x_input, axis=0), np.max(x_input, axis=0)\n",
    "x_input = (x_input-x_min)/(x_max-x_min)"
   ]
  },
  {
   "cell_type": "markdown",
   "metadata": {
    "colab_type": "text",
    "id": "r3ltXxjyD7l2"
   },
   "source": [
    ">### Hypothesis : Linear Equation (Multi-Variable)\n",
    ">### $X = \\begin{bmatrix} x_{11} & x_{12} \\\\ x_{21} & x_{22} \\\\ x_{31} & x_{32} \\\\ \\end{bmatrix}$\n",
    ">### $W = \\begin{bmatrix} w_{1} \\\\ w_{2} \\\\\\end{bmatrix}$\n",
    ">### $H(x) = XW + b$"
   ]
  },
  {
   "cell_type": "code",
   "execution_count": 4,
   "metadata": {
    "colab": {},
    "colab_type": "code",
    "id": "GOajfgPgD2qE"
   },
   "outputs": [],
   "source": [
    "# Hypothesis\n",
    "def Hypothesis(x):\n"
   ]
  },
  {
   "cell_type": "markdown",
   "metadata": {
    "colab_type": "text",
    "id": "2DL7vAuaEQRN"
   },
   "source": [
    ">### Cost Function : Mean Squared Error (MSE)\n",
    ">### $\\sum_{i=1}^{n}(h(x_{i})-y_{i})^{2}$"
   ]
  },
  {
   "cell_type": "code",
   "execution_count": 5,
   "metadata": {
    "colab": {},
    "colab_type": "code",
    "id": "NHObKoBzEHyR"
   },
   "outputs": [],
   "source": [
    "def Cost():\n"
   ]
  },
  {
   "cell_type": "markdown",
   "metadata": {
    "colab_type": "text",
    "id": "s3_SErpOG1rk"
   },
   "source": [
    "### 학습 (Training)"
   ]
  },
  {
   "cell_type": "code",
   "execution_count": 6,
   "metadata": {
    "colab": {},
    "colab_type": "code",
    "id": "68vMDyJoFcD2"
   },
   "outputs": [
    {
     "name": "stdout",
     "output_type": "stream",
     "text": [
      "[     0] cost =        1.1, W = [ -0.0953  0.4132 ], B =   1.871\n",
      "[  1000] cost =     0.4555, W = [   1.911   2.795 ], B =  -2.308\n",
      "[  2000] cost =     0.4348, W = [    2.79    3.48 ], B =  -3.142\n",
      "[  3000] cost =     0.4306, W = [   3.187   3.798 ], B =   -3.52\n",
      "[  4000] cost =     0.4295, W = [   3.392   3.967 ], B =  -3.718\n",
      "[  5000] cost =     0.4292, W = [   3.506   4.061 ], B =  -3.828\n",
      "[  6000] cost =      0.429, W = [   3.571   4.115 ], B =  -3.891\n",
      "[  7000] cost =      0.429, W = [   3.608   4.147 ], B =  -3.928\n",
      "[  8000] cost =      0.429, W = [   3.631   4.165 ], B =  -3.949\n",
      "[  9000] cost =      0.429, W = [   3.644   4.176 ], B =  -3.962\n",
      "[ 10000] cost =      0.429, W = [   3.651   4.182 ], B =  -3.969\n",
      "[ 11000] cost =      0.429, W = [   3.656   4.186 ], B =  -3.974\n",
      "[ 12000] cost =      0.429, W = [   3.659   4.189 ], B =  -3.976\n",
      "[ 13000] cost =      0.429, W = [    3.66    4.19 ], B =  -3.978\n",
      "[ 14000] cost =      0.429, W = [   3.661   4.191 ], B =  -3.979\n",
      "[ 15000] cost =      0.429, W = [   3.662   4.191 ], B =  -3.979\n",
      "[ 16000] cost =      0.429, W = [   3.662   4.191 ], B =   -3.98\n",
      "[ 17000] cost =      0.429, W = [   3.662   4.192 ], B =   -3.98\n",
      "[ 18000] cost =      0.429, W = [   3.662   4.192 ], B =   -3.98\n",
      "[ 19000] cost =      0.429, W = [   3.662   4.192 ], B =   -3.98\n",
      "[ 20000] cost =      0.429, W = [   3.662   4.192 ], B =   -3.98\n",
      "Wall time: 58.5 s\n"
     ]
    }
   ],
   "source": [
    "%%time\n",
    "# Parameter Set\n",
    "epochs = 10000\n",
    "learning_rate = 0.1\n",
    "\n",
    "\n",
    "\n",
    "\n",
    "\n",
    "\n",
    "\n",
    "\n",
    "\n"
   ]
  },
  {
   "cell_type": "markdown",
   "metadata": {
    "colab_type": "text",
    "id": "VmGa4Bq-ZKMq"
   },
   "source": [
    ">### Hypothesis Test "
   ]
  },
  {
   "cell_type": "code",
   "execution_count": 7,
   "metadata": {
    "colab": {},
    "colab_type": "code",
    "id": "X_UwcVCzK4KD"
   },
   "outputs": [
    {
     "name": "stdout",
     "output_type": "stream",
     "text": [
      "[ Hypothesis test ]\n",
      "Age : 25.0, BMI :    22.0 => Result : 0.01835 [label => [0.]]\n",
      "Age : 25.0, BMI :    26.0 => Result :  0.1319 [label => [0.]]\n",
      "Age : 25.0, BMI :    30.0 => Result :  0.5528 [label => [1.]]\n",
      "Age : 35.0, BMI :    22.0 => Result : 0.03854 [label => [0.]]\n",
      "Age : 35.0, BMI :    26.0 => Result :  0.2458 [label => [1.]]\n",
      "Age : 35.0, BMI :    30.0 => Result :  0.7261 [label => [0.]]\n",
      "Age : 45.0, BMI :    22.0 => Result : 0.07916 [label => [0.]]\n",
      "Age : 45.0, BMI :    26.0 => Result :  0.4114 [label => [0.]]\n",
      "Age : 45.0, BMI :    30.0 => Result :  0.8504 [label => [1.]]\n",
      "Age : 55.0, BMI :    22.0 => Result :  0.1557 [label => [0.]]\n",
      "Age : 55.0, BMI :    26.0 => Result :  0.5999 [label => [0.]]\n",
      "Age : 55.0, BMI :    30.0 => Result :  0.9242 [label => [1.]]\n",
      "Age : 65.0, BMI :    22.0 => Result :  0.2834 [label => [1.]]\n",
      "Age : 65.0, BMI :    26.0 => Result :  0.7628 [label => [1.]]\n",
      "Age : 65.0, BMI :    30.0 => Result :  0.9632 [label => [1.]]\n",
      "Age : 73.0, BMI :    22.0 => Result :  0.4213 [label => [0.]]\n",
      "Age : 73.0, BMI :    26.0 => Result :  0.8555 [label => [1.]]\n",
      "Age : 73.0, BMI :    30.0 => Result :  0.9797 [label => [1.]]\n"
     ]
    }
   ],
   "source": [
    "print(\"[ Hypothesis test ]\")\n",
    "H_x = Hypothesis(x_input)\n",
    "for x,h,l in zip(x_input_org, H_x, labels):\n",
    "  print(\"Age : {}, BMI : {:>7.4} => Result : {:>7.4} [label => {}]\".format(x[0],x[1],h[0],l))"
   ]
  },
  {
   "cell_type": "code",
   "execution_count": 8,
   "metadata": {},
   "outputs": [],
   "source": [
    "# predict\n",
    "def predict(x):\n",
    "  return Hypothesis((x-x_min)/(x_max-x_min))  "
   ]
  },
  {
   "cell_type": "code",
   "execution_count": 9,
   "metadata": {},
   "outputs": [
    {
     "name": "stdout",
     "output_type": "stream",
     "text": [
      "\n",
      "[ Prediction by specific data ]\n",
      "Age : 50.0, BMI : 25.0 => Result :  0.3774\n"
     ]
    }
   ],
   "source": [
    "# predict\n",
    "print(\"\\n[ Prediction by specific data ]\")\n",
    "x_test = tf.constant([[50.0, 25.0]], dtype= tf.float32)\n",
    "H_x = predict(x_test)\n",
    "print(\"Age : {}, BMI : {} => Result : {:>7.4}\".format(x_test[0][0],x_test[0][1],H_x[0][0]))"
   ]
  },
  {
   "cell_type": "markdown",
   "metadata": {
    "colab_type": "text",
    "id": "eLvOaTCyHGhb"
   },
   "source": [
    ">### Plotting"
   ]
  },
  {
   "cell_type": "code",
   "execution_count": 10,
   "metadata": {
    "colab": {},
    "colab_type": "code",
    "id": "4ZEI94f8HHDu"
   },
   "outputs": [
    {
     "data": {
      "text/plain": [
       "<function matplotlib.pyplot.show(close=None, block=None)>"
      ]
     },
     "execution_count": 10,
     "metadata": {},
     "output_type": "execute_result"
    },
    {
     "data": {
      "image/png": "[encoded data removed]",
      "text/plain": [
       "<Figure size 432x288 with 1 Axes>"
      ]
     },
     "metadata": {
      "needs_background": "light"
     },
     "output_type": "display_data"
    }
   ],
   "source": [
    "# Training 상황에 대한 그래프 출력\n",
    "# Training 회수 별 Cost 값\n",
    "plt.title(\"'Cost / Epochs' Graph\")\n",
    "plt.xlabel(\"Epochs\")\n",
    "plt.ylabel(\"Cost\")\n",
    "plt.plot(training_idx, cost_graph)\n",
    "plt.xlim(0, epochs)\n",
    "plt.grid(True)\n",
    "plt.semilogy()\n",
    "plt.show"
   ]
  }
 ],
 "metadata": {
  "accelerator": "TPU",
  "colab": {
   "collapsed_sections": [],
   "name": "EX_07_Blood_Pressure_Multi_Variable_LR_TF.ipynb",
   "provenance": []
  },
  "kernelspec": {
   "display_name": "Python 3",
   "language": "python",
   "name": "python3"
  },
  "language_info": {
   "codemirror_mode": {
    "name": "ipython",
    "version": 3
   },
   "file_extension": ".py",
   "mimetype": "text/x-python",
   "name": "python",
   "nbconvert_exporter": "python",
   "pygments_lexer": "ipython3",
   "version": "3.7.9"
  }
 },
 "nbformat": 4,
 "nbformat_minor": 1
}
