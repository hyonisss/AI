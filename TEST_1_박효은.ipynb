{
  "nbformat": 4,
  "nbformat_minor": 0,
  "metadata": {
    "accelerator": "TPU",
    "colab": {
      "name": "TEST_1_박효은.ipynb",
      "provenance": [],
      "collapsed_sections": []
    },
    "kernelspec": {
      "display_name": "Python 3",
      "language": "python",
      "name": "python3"
    },
    "language_info": {
      "codemirror_mode": {
        "name": "ipython",
        "version": 3
      },
      "file_extension": ".py",
      "mimetype": "text/x-python",
      "name": "python",
      "nbconvert_exporter": "python",
      "pygments_lexer": "ipython3",
      "version": "3.7.9"
    }
  },
  "cells": [
    {
      "cell_type": "markdown",
      "metadata": {
        "id": "s5GcbJcLDEOJ"
      },
      "source": [
        ">### [TEST_1] Linear Regression (TensorFlow)"
      ]
    },
    {
      "cell_type": "code",
      "metadata": {
        "colab": {
          "base_uri": "https://localhost:8080/"
        },
        "id": "NQ6ONRPKCy-h",
        "outputId": "5c85f244-900f-4d7c-d516-68aacb27d8b4"
      },
      "source": [
        "import numpy as np\n",
        "import tensorflow as tf\n",
        "import matplotlib.pyplot as plt\n",
        "\n",
        "print(\"NumPy Version :{}\".format(np.__version__))\n",
        "print(\"TensorFlow Version :{}\".format(tf.__version__))\n",
        "print(\"Matplotlib Version :{}\".format(plt.matplotlib.__version__))"
      ],
      "execution_count": null,
      "outputs": [
        {
          "output_type": "stream",
          "text": [
            "NumPy Version :1.19.5\n",
            "TensorFlow Version :2.4.0\n",
            "Matplotlib Version :3.2.2\n"
          ],
          "name": "stdout"
        }
      ]
    },
    {
      "cell_type": "markdown",
      "metadata": {
        "id": "-dg-R6_6Dfo_"
      },
      "source": [
        "> ### Input and Label"
      ]
    },
    {
      "cell_type": "code",
      "metadata": {
        "id": "MK9xIhEWDdiq"
      },
      "source": [
        "# 3 Input(AGE, BMI, Value) , Labels(BP) \n",
        "x_input = tf.constant([[25,22,5],[25,26,6],[25,30,5],[35,22,7],[35,26,7],[35,30,8],[45,22,7],[45,26,8],[45,30,7],[55,22,6],[55,26,7],[55,30,9],[65,22,6],[65,26,8],[65,30,10],[73,22,8],[73,26,8],[73,30,8]], dtype= tf.float32)\n",
        "labels = tf.constant([[118],[125],[130],[118],[126],[123],[120],[124],[130],[122],[125],[130],[127],[130],[130],[125.5],[130],[138]], dtype= tf.float32)\n",
        "\n",
        "# W, B\n",
        "W = tf.Variable(tf.random.normal((3, 1)), dtype=tf.float32)\n",
        "B = tf.Variable(tf.random.normal(()), dtype=tf.float32)\n"
      ],
      "execution_count": null,
      "outputs": []
    },
    {
      "cell_type": "code",
      "metadata": {
        "id": "ykLjLluSu7bI"
      },
      "source": [
        "# Min Max Scaler\n",
        "x_input_org = x_input # 나중에 원본데이터 확인을 위해 백업\n",
        "x_min, x_max = np.min(x_input, axis=0), np.max(x_input, axis=0)\n",
        "x_input = (x_input-x_min)/(x_max-x_min)"
      ],
      "execution_count": null,
      "outputs": []
    },
    {
      "cell_type": "markdown",
      "metadata": {
        "id": "r3ltXxjyD7l2"
      },
      "source": [
        ">### Hypothesis : Linear Equation (Multi-Variable)\n",
        ">### $X = \\begin{bmatrix} x_{11} & x_{12} \\\\ x_{21} & x_{22} \\\\ x_{31} & x_{32} \\\\ \\end{bmatrix}$\n",
        ">### $W = \\begin{bmatrix} w_{1} \\\\ w_{2} \\\\\\end{bmatrix}$\n",
        ">### $H(x) = XW + b$"
      ]
    },
    {
      "cell_type": "code",
      "metadata": {
        "id": "GOajfgPgD2qE"
      },
      "source": [
        "# Hypothesis\n",
        "def Hypothesis(x):\n",
        "  return tf.matmul(x, W) + B"
      ],
      "execution_count": null,
      "outputs": []
    },
    {
      "cell_type": "markdown",
      "metadata": {
        "id": "2DL7vAuaEQRN"
      },
      "source": [
        ">### Cost Function : Mean Squared Error (MSE)\n",
        ">### $\\sum_{i=1}^{n}(h(x_{i})-y_{i})^{2}$"
      ]
    },
    {
      "cell_type": "code",
      "metadata": {
        "id": "NHObKoBzEHyR"
      },
      "source": [
        "# Cost\n",
        "def Cost():\n",
        "  return tf.reduce_mean(tf.square(Hypothesis(x_input)-labels))"
      ],
      "execution_count": null,
      "outputs": []
    },
    {
      "cell_type": "markdown",
      "metadata": {
        "id": "s3_SErpOG1rk"
      },
      "source": [
        "### 학습 (Training)"
      ]
    },
    {
      "cell_type": "code",
      "metadata": {
        "colab": {
          "base_uri": "https://localhost:8080/"
        },
        "id": "68vMDyJoFcD2",
        "outputId": "0c65ae3f-289a-4c40-909e-f804f50e0898"
      },
      "source": [
        "%%time\n",
        "# Parameter Set\n",
        "epochs = 100\n",
        "learning_rate = 0.5\n",
        "optimizer = tf.keras.optimizers.SGD(learning_rate=learning_rate)\n",
        "\n",
        "\n",
        "training_idx = np.arange(0, epochs+1, 1)\n",
        "cost_graph = np.zeros(epochs+1)\n",
        "\n",
        "\n",
        "for cnt in range(0, epochs+1):\n",
        "  cost_graph[cnt] = Cost()\n",
        "  if cnt % (epochs/20) == 0:\n",
        "      print(\"[{:>6}] cost = {:>10.4}\".format(cnt, cost_graph[cnt]))\n",
        "  optimizer.minimize(Cost,[W, B])    "
      ],
      "execution_count": null,
      "outputs": [
        {
          "output_type": "stream",
          "text": [
            "[     0] cost =  1.559e+04\n",
            "[     5] cost =   1.65e+03\n",
            "[    10] cost =      210.8\n",
            "[    15] cost =      41.63\n",
            "[    20] cost =       14.6\n",
            "[    25] cost =      7.952\n",
            "[    30] cost =      5.647\n",
            "[    35] cost =      4.651\n",
            "[    40] cost =      4.135\n",
            "[    45] cost =      3.821\n",
            "[    50] cost =      3.605\n",
            "[    55] cost =      3.446\n",
            "[    60] cost =      3.324\n",
            "[    65] cost =      3.229\n",
            "[    70] cost =      3.153\n",
            "[    75] cost =      3.094\n",
            "[    80] cost =      3.047\n",
            "[    85] cost =      3.009\n",
            "[    90] cost =       2.98\n",
            "[    95] cost =      2.956\n",
            "[   100] cost =      2.938\n",
            "CPU times: user 263 ms, sys: 6.01 ms, total: 269 ms\n",
            "Wall time: 322 ms\n"
          ],
          "name": "stdout"
        }
      ]
    },
    {
      "cell_type": "markdown",
      "metadata": {
        "id": "VmGa4Bq-ZKMq"
      },
      "source": [
        ">### Hypothesis Test "
      ]
    },
    {
      "cell_type": "code",
      "metadata": {
        "colab": {
          "base_uri": "https://localhost:8080/"
        },
        "id": "X_UwcVCzK4KD",
        "outputId": "03d95652-6edf-46e4-9dbb-0ee9267d72f8"
      },
      "source": [
        "print(\"[ Hypothesis test ]\")\n",
        "\n",
        "H_x = Hypothesis(x_input)\n",
        "for x,h,l in zip(x_input_org, H_x, labels):\n",
        "  print(\"Input : {}, {}, {} => BP : {:>7.4} [label => {}]\".format(x[0],x[1],x[2], h[0],l))"
      ],
      "execution_count": null,
      "outputs": [
        {
          "output_type": "stream",
          "text": [
            "[ Hypothesis test ]\n",
            "Input : 25.0, 22.0, 5.0 => BP :   118.8 [label => [118.]]\n",
            "Input : 25.0, 26.0, 6.0 => BP :   122.5 [label => [125.]]\n",
            "Input : 25.0, 30.0, 5.0 => BP :   129.1 [label => [130.]]\n",
            "Input : 35.0, 22.0, 7.0 => BP :   118.0 [label => [118.]]\n",
            "Input : 35.0, 26.0, 7.0 => BP :   123.2 [label => [126.]]\n",
            "Input : 35.0, 30.0, 8.0 => BP :   126.9 [label => [123.]]\n",
            "Input : 45.0, 22.0, 7.0 => BP :   120.3 [label => [120.]]\n",
            "Input : 45.0, 26.0, 8.0 => BP :   124.0 [label => [124.]]\n",
            "Input : 45.0, 30.0, 7.0 => BP :   130.6 [label => [130.]]\n",
            "Input : 55.0, 22.0, 6.0 => BP :   124.0 [label => [122.]]\n",
            "Input : 55.0, 26.0, 7.0 => BP :   127.7 [label => [125.]]\n",
            "Input : 55.0, 30.0, 9.0 => BP :   129.9 [label => [130.]]\n",
            "Input : 65.0, 22.0, 6.0 => BP :   126.3 [label => [127.]]\n",
            "Input : 65.0, 26.0, 8.0 => BP :   128.5 [label => [130.]]\n",
            "Input : 65.0, 30.0, 10.0 => BP :   130.7 [label => [130.]]\n",
            "Input : 73.0, 22.0, 8.0 => BP :   125.1 [label => [125.5]]\n",
            "Input : 73.0, 26.0, 8.0 => BP :   130.3 [label => [130.]]\n",
            "Input : 73.0, 30.0, 8.0 => BP :   135.5 [label => [138.]]\n"
          ],
          "name": "stdout"
        }
      ]
    },
    {
      "cell_type": "markdown",
      "metadata": {
        "id": "eLvOaTCyHGhb"
      },
      "source": [
        ">### Plotting"
      ]
    },
    {
      "cell_type": "code",
      "metadata": {
        "colab": {
          "base_uri": "https://localhost:8080/",
          "height": 313
        },
        "id": "4ZEI94f8HHDu",
        "outputId": "ff3a404f-7940-4ce2-8f36-10e9efb6c16b"
      },
      "source": [
        "# Training 상황에 대한 그래프 출력\n",
        "# Training 회수 별 Cost 값\n",
        "plt.title(\"'Cost / Epochs' Graph\")\n",
        "plt.xlabel(\"Epochs\")\n",
        "plt.ylabel(\"Cost\")\n",
        "plt.plot(training_idx, cost_graph)\n",
        "plt.xlim(0, epochs)\n",
        "plt.grid(True)\n",
        "plt.semilogy()\n",
        "plt.show"
      ],
      "execution_count": null,
      "outputs": [
        {
          "output_type": "execute_result",
          "data": {
            "text/plain": [
              "<function matplotlib.pyplot.show>"
            ]
          },
          "metadata": {
            "tags": []
          },
          "execution_count": 8
        },
        {
          "output_type": "display_data",
          "data": {
            "image/png": "[encoded data removed]",
            "text/plain": [
              "<Figure size 432x288 with 1 Axes>"
            ]
          },
          "metadata": {
            "tags": [],
            "needs_background": "light"
          }
        }
      ]
    }
  ]
}