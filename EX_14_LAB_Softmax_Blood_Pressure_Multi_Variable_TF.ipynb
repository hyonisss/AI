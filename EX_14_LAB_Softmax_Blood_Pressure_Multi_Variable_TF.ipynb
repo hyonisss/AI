{
 "cells": [
  {
   "cell_type": "markdown",
   "metadata": {
    "colab_type": "text",
    "id": "YFgG5LWSDCGQ"
   },
   "source": [
    "# Softmax Classification"
   ]
  },
  {
   "cell_type": "markdown",
   "metadata": {
    "colab_type": "text",
    "id": "s5GcbJcLDEOJ"
   },
   "source": [
    ">### [예제 14: LAB] Multi Variable Softmax Classification(TF)"
   ]
  },
  {
   "cell_type": "markdown",
   "metadata": {
    "colab_type": "text",
    "id": "CmXWmww_DN1h"
   },
   "source": [
    ">### Load modules"
   ]
  },
  {
   "cell_type": "code",
   "execution_count": 1,
   "metadata": {
    "colab": {},
    "colab_type": "code",
    "id": "NQ6ONRPKCy-h"
   },
   "outputs": [
    {
     "name": "stdout",
     "output_type": "stream",
     "text": [
      "Module Loaded.\n",
      "NumPy Version :1.18.5\n",
      "TensorFlow Version :2.3.1\n",
      "Matplotlib Version :3.3.2\n"
     ]
    }
   ],
   "source": [
    "import numpy as np\n",
    "import tensorflow as tf\n",
    "import matplotlib.pyplot as plt\n",
    "\n",
    "print(\"NumPy Version :{}\".format(np.__version__))\n",
    "print(\"TensorFlow Version :{}\".format(tf.__version__))\n",
    "print(\"Matplotlib Version :{}\".format(plt.matplotlib.__version__))"
   ]
  },
  {
   "cell_type": "code",
   "execution_count": 2,
   "metadata": {
    "colab": {},
    "colab_type": "code",
    "id": "MK9xIhEWDdiq"
   },
   "outputs": [],
   "source": [
    "#Input(AGE) and Labels(BP)\n",
    "x_input = tf.constant([[25,22],[25,26],[25,30],[35,22],[35,26],[35,30],[45,22],[45,26],[45,30],[55,22],[55,26],[55,30],[65,22],[65,26],[65,30],[73,22],[73,26],[73,30]], dtype= tf.float32)\n",
    "labels = tf.constant([[1,0,0],[0,1,0],[0,0,1],[1,0,0],[0,1,0],[1,0,0],[1,0,0],[1,0,0],[0,1,0],[1,0,0],[0,1,0],[0,0,1],[0,1,0],[0,0,1],[0,0,1],[0,1,0],[0,0,1],[0,0,1]], dtype= tf.float32)\n",
    "\n",
    "# 나이와 BMI 가 입력되면, 혈압등급을 0 : 정상,  1: 주의,  2: 경고  등급으로 구분하는 코드를 구현하라.\n",
    "W = tf.Variable(tf.random.normal((2,3)), dtype=tf.float32)\n",
    "B = tf.Variable(tf.random.normal((1,3)), dtype=tf.float32)"
   ]
  },
  {
   "cell_type": "code",
   "execution_count": 3,
   "metadata": {},
   "outputs": [],
   "source": [
    "x_input_org = x_input\n",
    "x_min, x_max = np.min(x_input, axis=0), np.max(x_input, axis=0)\n",
    "x_input = (x_input-x_min)/(x_max-x_min)"
   ]
  },
  {
   "cell_type": "code",
   "execution_count": 4,
   "metadata": {
    "colab": {},
    "colab_type": "code",
    "id": "GOajfgPgD2qE"
   },
   "outputs": [],
   "source": [
    "def logits(x):\n",
    "\n",
    "\n",
    "def Hypothesis(x):\n"
   ]
  },
  {
   "cell_type": "code",
   "execution_count": 5,
   "metadata": {
    "colab": {},
    "colab_type": "code",
    "id": "NHObKoBzEHyR"
   },
   "outputs": [],
   "source": [
    "def Cost():\n"
   ]
  },
  {
   "cell_type": "markdown",
   "metadata": {
    "colab_type": "text",
    "id": "s3_SErpOG1rk"
   },
   "source": [
    "### 학습 (Training)"
   ]
  },
  {
   "cell_type": "code",
   "execution_count": 6,
   "metadata": {
    "colab": {},
    "colab_type": "code",
    "id": "68vMDyJoFcD2"
   },
   "outputs": [
    {
     "name": "stdout",
     "output_type": "stream",
     "text": [
      "[     0] cost =      1.063\n",
      "[  1500] cost =     0.7467\n",
      "[  3000] cost =     0.7055\n",
      "[  4500] cost =     0.6905\n",
      "[  6000] cost =     0.6834\n",
      "[  7500] cost =     0.6795\n",
      "[  9000] cost =     0.6773\n",
      "[ 10500] cost =      0.676\n",
      "[ 12000] cost =     0.6751\n",
      "[ 13500] cost =     0.6745\n",
      "[ 15000] cost =     0.6742\n",
      "[ 16500] cost =     0.6739\n",
      "[ 18000] cost =     0.6738\n",
      "[ 19500] cost =     0.6736\n",
      "[ 21000] cost =     0.6736\n",
      "[ 22500] cost =     0.6735\n",
      "[ 24000] cost =     0.6735\n",
      "[ 25500] cost =     0.6734\n",
      "[ 27000] cost =     0.6734\n",
      "[ 28500] cost =     0.6734\n",
      "[ 30000] cost =     0.6734\n",
      "Wall time: 1min 41s\n"
     ]
    }
   ],
   "source": [
    "%%time\n",
    "\n",
    "# Parameter Set\n",
    "epochs = 30000\n",
    "learning_rate = 0.05\n",
    "\n",
    "optimizer = tf.keras.optimizers.SGD(learning_rate=learning_rate)\n",
    "\n"
   ]
  },
  {
   "cell_type": "markdown",
   "metadata": {
    "colab_type": "text",
    "id": "VmGa4Bq-ZKMq"
   },
   "source": [
    ">### Hypothesis Test "
   ]
  },
  {
   "cell_type": "code",
   "execution_count": 7,
   "metadata": {
    "colab": {},
    "colab_type": "code",
    "id": "X_UwcVCzK4KD"
   },
   "outputs": [
    {
     "name": "stdout",
     "output_type": "stream",
     "text": [
      "[ Hypothesis test ]\n",
      "Age:25.0,BMI:22.0 [label:0]=>class:0: [8.9080453e-01 1.0907934e-01 1.1614612e-04]\n",
      "Age:25.0,BMI:26.0 [label:1]=>class:0: [0.701533   0.29269832 0.00576858]\n",
      "Age:25.0,BMI:30.0 [label:2]=>class:1: [0.3401121  0.48351097 0.17637695]\n",
      "Age:35.0,BMI:22.0 [label:0]=>class:0: [8.1109959e-01 1.8831950e-01 5.8093155e-04]\n",
      "Age:35.0,BMI:26.0 [label:1]=>class:0: [0.54458123 0.43082005 0.0245987 ]\n",
      "Age:35.0,BMI:30.0 [label:0]=>class:2: [0.15280597 0.41189423 0.43529978]\n",
      "Age:45.0,BMI:22.0 [label:0]=>class:0: [0.6924407  0.304835   0.00272434]\n",
      "Age:45.0,BMI:26.0 [label:0]=>class:1: [0.3638825  0.54582757 0.09028989]\n",
      "Age:45.0,BMI:30.0 [label:1]=>class:2: [0.04595663 0.23488462 0.71915877]\n",
      "Age:55.0,BMI:22.0 [label:0]=>class:0: [0.53869516 0.4496622  0.01164262]\n",
      "Age:55.0,BMI:26.0 [label:1]=>class:1: [0.19204171 0.54619914 0.26175916]\n",
      "Age:55.0,BMI:30.0 [label:2]=>class:2: [0.01034632 0.10026596 0.8893877 ]\n",
      "Age:65.0,BMI:22.0 [label:1]=>class:1: [0.37017232 0.58587956 0.04394808]\n",
      "Age:65.0,BMI:26.0 [label:2]=>class:2: [0.07204459 0.38852414 0.5394313 ]\n",
      "Age:65.0,BMI:30.0 [label:2]=>class:2: [0.00203424 0.03737932 0.9605864 ]\n",
      "Age:73.0,BMI:22.0 [label:1]=>class:1: [0.24364    0.64334214 0.11301792]\n",
      "Age:73.0,BMI:26.0 [label:2]=>class:2: [0.02547641 0.2292154  0.7453082 ]\n",
      "Age:73.0,BMI:30.0 [label:2]=>class:2: [5.3286296e-04 1.6335519e-02 9.8313165e-01]\n"
     ]
    }
   ],
   "source": [
    "print(\"[ Hypothesis test ]\")\n",
    "H_x = Hypothesis(x_input)\n",
    "\n",
    "for x,h,l in zip(x_input_org, H_x, labels):\n",
    "  print(\"Age:{},BMI:{} [label:{}]=>class:{}: {}\".format(x[0],x[1],np.argmax(l), np.argmax(h.numpy()),h))"
   ]
  },
  {
   "cell_type": "code",
   "execution_count": 8,
   "metadata": {},
   "outputs": [],
   "source": [
    "# predict\n",
    "def predict(x):\n",
    "  return Hypothesis((x-x_min)/(x_max-x_min))  "
   ]
  },
  {
   "cell_type": "code",
   "execution_count": 9,
   "metadata": {},
   "outputs": [
    {
     "name": "stdout",
     "output_type": "stream",
     "text": [
      "\n",
      "[ Prediction by specific data ]\n",
      "Age : 50.0, BMI : 25.0 => Class: 1 [0.36675146 0.55756277 0.07568578]\n"
     ]
    }
   ],
   "source": [
    "x_test = tf.constant([[50.0, 25.0]], dtype= tf.float32)\n",
    "H_x = predict(x_test)\n",
    "print(\"\\n[ Prediction by specific data ]\")\n",
    "print(\"Age : {}, BMI : {} => Class: {}\".format(x_test[0][0],x_test[0][1],np.argmax(H_x[0])),H_x[0].numpy())"
   ]
  },
  {
   "cell_type": "markdown",
   "metadata": {
    "colab_type": "text",
    "id": "eLvOaTCyHGhb"
   },
   "source": [
    ">### Plotting"
   ]
  },
  {
   "cell_type": "code",
   "execution_count": 10,
   "metadata": {
    "colab": {},
    "colab_type": "code",
    "id": "4ZEI94f8HHDu"
   },
   "outputs": [
    {
     "data": {
      "text/plain": [
       "<function matplotlib.pyplot.show(close=None, block=None)>"
      ]
     },
     "execution_count": 10,
     "metadata": {},
     "output_type": "execute_result"
    },
    {
     "data": {
      "image/png": "[encoded data removed]",
      "text/plain": [
       "<Figure size 432x288 with 1 Axes>"
      ]
     },
     "metadata": {
      "needs_background": "light"
     },
     "output_type": "display_data"
    }
   ],
   "source": [
    "# Training 상황에 대한 그래프 출력\n",
    "# Training 회수 별 Cost 값\n",
    "plt.title(\"'Cost / Epochs' Graph\")\n",
    "plt.xlabel(\"Epochs\")\n",
    "plt.ylabel(\"Cost\")\n",
    "plt.plot(training_idx, cost_graph)\n",
    "plt.xlim(0, epochs)\n",
    "plt.grid(True)\n",
    "plt.semilogy()\n",
    "plt.show"
   ]
  }
 ],
 "metadata": {
  "accelerator": "TPU",
  "colab": {
   "collapsed_sections": [],
   "name": "EX_07_Blood_Pressure_Multi_Variable_LR_TF.ipynb",
   "provenance": []
  },
  "kernelspec": {
   "display_name": "Python 3",
   "language": "python",
   "name": "python3"
  },
  "language_info": {
   "codemirror_mode": {
    "name": "ipython",
    "version": 3
   },
   "file_extension": ".py",
   "mimetype": "text/x-python",
   "name": "python",
   "nbconvert_exporter": "python",
   "pygments_lexer": "ipython3",
   "version": "3.7.9"
  }
 },
 "nbformat": 4,
 "nbformat_minor": 1
}
